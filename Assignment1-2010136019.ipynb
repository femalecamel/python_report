{
 "cells": [
  {
   "cell_type": "markdown",
   "metadata": {},
   "source": [
    "#Assignment_1-2013136019_김수연"
   ]
  },
  {
   "cell_type": "markdown",
   "metadata": {},
   "source": [
    "* 과목 : 스크립트 프로그래밍 (한연희 교수님)\n",
    "* 제출일 : 2015-09-23\n",
    "* 이름 : 김수연 2013136019"
   ]
  },
  {
   "cell_type": "markdown",
   "metadata": {},
   "source": [
    "1. a=\"Hello Python\" 문자열을 Slicing과 연결 연산자 (+)를 사용하여 \"Python Hello\"로 변경하시오.\n",
    "    * [주의] a 변수 자체에 \"Python Hello\" 문자열이 저장되어야 함"
   ]
  },
  {
   "cell_type": "code",
   "execution_count": 1,
   "metadata": {
    "collapsed": false,
    "scrolled": true
   },
   "outputs": [
    {
     "name": "stdout",
     "output_type": "stream",
     "text": [
      "Python Hello\n"
     ]
    }
   ],
   "source": [
    "a = \"Hello Python\"\n",
    "a = a[6:] + ' ' + a[:5]\n",
    "print a"
   ]
  },
  {
   "cell_type": "markdown",
   "metadata": {},
   "source": [
    "\"Hello Python\" 문자열을 앞부분과 뒷부분을 슬라이싱 하고 가운데 ' '을 이용해 공백을 넣어준 후 다시 a 변수에 문자열을 할당해 주었다."
   ]
  },
  {
   "cell_type": "markdown",
   "metadata": {},
   "source": [
    "2. b=\"Hello Python World\" 문자열을 Slicing과 연결 연산자 (+)를 사용하여 \"World Python Hello\"로 변경하시오.\n",
    "    * [주의] b 변수 자체에 \"Python Hello\" 문자열이 저장되어야 함"
   ]
  },
  {
   "cell_type": "code",
   "execution_count": 3,
   "metadata": {
    "collapsed": false
   },
   "outputs": [
    {
     "name": "stdout",
     "output_type": "stream",
     "text": [
      "World Python Hello\n"
     ]
    }
   ],
   "source": [
    "b = \"Hello Python World\"\n",
    "b = b[13:] + ' ' + b[6:13] + b[:5]\n",
    "print b"
   ]
  },
  {
   "cell_type": "markdown",
   "metadata": {},
   "source": [
    "마찬가지로 \"Hello Python World\" 문자열을 'World', 'Python ', 'Hello' 로 슬라이싱한 후 b 변수에 할당해 주었다."
   ]
  },
  {
   "cell_type": "markdown",
   "metadata": {},
   "source": [
    "1. c=\"Hello\"를 \"olleH\"로 변경하시오\n",
    "    * [주의] c 변수 자체에 \"olleH\" 문자열이 저장되어야 함"
   ]
  },
  {
   "cell_type": "code",
   "execution_count": 4,
   "metadata": {
    "collapsed": false
   },
   "outputs": [
    {
     "name": "stdout",
     "output_type": "stream",
     "text": [
      "olleH\n"
     ]
    }
   ],
   "source": [
    "c = \"Hello\"\n",
    "c = c[::-1]\n",
    "print c"
   ]
  },
  {
   "cell_type": "markdown",
   "metadata": {},
   "source": [
    "c에 저장된 문자열 'Hello'를 역으로 슬라이싱을 해 저장해 주었다."
   ]
  },
  {
   "cell_type": "markdown",
   "metadata": {},
   "source": [
    "1. s=\"python\"에 대해 다음 문제를 풀어보시오.\n",
    "    * s[0], s[0][0], s[0][0][0]은 각각 어떤 값이 나오는지 확인하고 그 이유를 나름대로 설명해 보시오.\n",
    "    * s[-100], s[100]은 값이 나오는지 에러가 나오는지 확인하고 그 결과에 대한 이유를 나름대로 설명해 보시오.\n",
    "    * s[-100, 100]은 값이 나오는지 에러가 나오는지 확인하고 그 결과에 대한 이유를 나름대로 설명해 보시오.\n",
    "    * s[1:-1]의 결과를 확인하고 그 결과에 대한 이유를 정확하게 설명하시오.\n",
    "    * s[3:-3]의 결과를 확인하고 그 결과에 대한 이유를 정확하게 설명하시오."
   ]
  },
  {
   "cell_type": "code",
   "execution_count": 6,
   "metadata": {
    "collapsed": false
   },
   "outputs": [
    {
     "name": "stdout",
     "output_type": "stream",
     "text": [
      "p p p\n"
     ]
    }
   ],
   "source": [
    "s = \"python\"\n",
    "print s[0], s[0][0], s[0][0][0]"
   ]
  },
  {
   "cell_type": "markdown",
   "metadata": {},
   "source": [
    "s[0]은 문자열을 인덱스값을 이용해 선택하는 구문이므로 'python'의 첫 번째 문자인 'p'가 출력된다.\n",
    "s[0][0] 은 s[0]의 문자열 중에서 첫 번째 인덱스를 가르키므로 'p'문자열 중에서 첫번째 인덱스인 'p'가 출력된다.\n",
    "마찬가지로 s[0][0][0] 은 s[0][0]의 문자열 중에서 첫 번째 인덱스를 가르키므로 'p'문자열 중에서 첫번째 인덱스인 'p'가 출력된다."
   ]
  },
  {
   "cell_type": "code",
   "execution_count": 7,
   "metadata": {
    "collapsed": false
   },
   "outputs": [
    {
     "ename": "IndexError",
     "evalue": "string index out of range",
     "output_type": "error",
     "traceback": [
      "\u001b[1;31m---------------------------------------------------------------------------\u001b[0m",
      "\u001b[1;31mIndexError\u001b[0m                                Traceback (most recent call last)",
      "\u001b[1;32m<ipython-input-7-5fd8451e4b3f>\u001b[0m in \u001b[0;36m<module>\u001b[1;34m()\u001b[0m\n\u001b[1;32m----> 1\u001b[1;33m \u001b[1;32mprint\u001b[0m \u001b[0ms\u001b[0m\u001b[1;33m[\u001b[0m\u001b[1;33m-\u001b[0m\u001b[1;36m100\u001b[0m\u001b[1;33m]\u001b[0m\u001b[1;33m\u001b[0m\u001b[0m\n\u001b[0m\u001b[0;32m      2\u001b[0m \u001b[1;32mprint\u001b[0m \u001b[0ms\u001b[0m\u001b[1;33m[\u001b[0m\u001b[1;36m100\u001b[0m\u001b[1;33m]\u001b[0m\u001b[1;33m\u001b[0m\u001b[0m\n",
      "\u001b[1;31mIndexError\u001b[0m: string index out of range"
     ]
    }
   ],
   "source": [
    "print s[-100]\n",
    "print s[100]"
   ]
  },
  {
   "cell_type": "markdown",
   "metadata": {},
   "source": [
    "s는 현재 문자열 'python'을 저장하고 있지만 index는 0에서 부터 5까지이기 때문에 s[-100]과s[100]은 index범위가 벗어나므로 에러가 출력된다."
   ]
  },
  {
   "cell_type": "code",
   "execution_count": 8,
   "metadata": {
    "collapsed": false
   },
   "outputs": [
    {
     "ename": "TypeError",
     "evalue": "string indices must be integers, not tuple",
     "output_type": "error",
     "traceback": [
      "\u001b[1;31m---------------------------------------------------------------------------\u001b[0m",
      "\u001b[1;31mTypeError\u001b[0m                                 Traceback (most recent call last)",
      "\u001b[1;32m<ipython-input-8-682bda7d6434>\u001b[0m in \u001b[0;36m<module>\u001b[1;34m()\u001b[0m\n\u001b[1;32m----> 1\u001b[1;33m \u001b[1;32mprint\u001b[0m \u001b[0ms\u001b[0m\u001b[1;33m[\u001b[0m\u001b[1;33m-\u001b[0m\u001b[1;36m100\u001b[0m\u001b[1;33m,\u001b[0m \u001b[1;36m100\u001b[0m\u001b[1;33m]\u001b[0m\u001b[1;33m\u001b[0m\u001b[0m\n\u001b[0m",
      "\u001b[1;31mTypeError\u001b[0m: string indices must be integers, not tuple"
     ]
    }
   ],
   "source": [
    "print s[-100, 100]"
   ]
  },
  {
   "cell_type": "markdown",
   "metadata": {},
   "source": [
    "현재 s[-100,100]은 index 값으로 \"-100,100\"이라는 값을 쓰고 있는데 에러 메세지를 보면 이 값은 튜플로 인식이 된다. 문자열의 index값은 정수형으로 작성하여야 하기 때문에 에러가 난다."
   ]
  },
  {
   "cell_type": "code",
   "execution_count": 9,
   "metadata": {
    "collapsed": false
   },
   "outputs": [
    {
     "name": "stdout",
     "output_type": "stream",
     "text": [
      "ytho\n"
     ]
    }
   ],
   "source": [
    "print s[1:-1]"
   ]
  },
  {
   "cell_type": "markdown",
   "metadata": {},
   "source": [
    "s[1:-1] 은 시작 index 가 1 부터 종료 index -1까지 슬라이싱을 하라는 구문이다. \n",
    "s = \"python\"에서 문자열의 index 값을 음수로 인식하면 -5 부터 0까지 이므로 \n",
    "s = [1:-1] 은 index 1 에 해당하는 y 부터 index -1에 해당하는 o까지 슬라이싱을 하게 된다. "
   ]
  },
  {
   "cell_type": "code",
   "execution_count": 10,
   "metadata": {
    "collapsed": false
   },
   "outputs": [
    {
     "name": "stdout",
     "output_type": "stream",
     "text": [
      "\n"
     ]
    }
   ],
   "source": [
    "print s[3:-3]"
   ]
  },
  {
   "cell_type": "markdown",
   "metadata": {},
   "source": [
    "index 3부터 -3까지 슬라이싱을 하라는 구문이다. \n",
    "index 3에 해당하는 문자는 'h'이며, index -3에 해당하는 문자는 't'이다.\n",
    "'h'문자와 't'문자 사이의 간격은 -1 차이이므로 Step이 기본적으로 1로 설정되어 있기 때문에 슬라이싱을 하지 않는다."
   ]
  },
  {
   "cell_type": "markdown",
   "metadata": {},
   "source": [
    "1. for문을 활용하여 1부터 100사이의 홀수를 출력하시오."
   ]
  },
  {
   "cell_type": "code",
   "execution_count": 11,
   "metadata": {
    "collapsed": false
   },
   "outputs": [
    {
     "name": "stdout",
     "output_type": "stream",
     "text": [
      "1 3 5 7 9 11 13 15 17 19 21 23 25 27 29 31 33 35 37 39 41 43 45 47 49 51 53 55 57 59 61 63 65 67 69 71 73 75 77 79 81 83 85 87 89 91 93 95 97 99\n"
     ]
    }
   ],
   "source": [
    "for x in range(1, 100, 2):\n",
    "    print x,"
   ]
  },
  {
   "cell_type": "markdown",
   "metadata": {},
   "source": [
    "for문의 컨테이너로 range함수를 사용했다. range 함수에는 Step을 2만큼 주어 1부터 홀수값만을 리스트로 가져오게 한 후 출력한다."
   ]
  },
  {
   "cell_type": "markdown",
   "metadata": {},
   "source": [
    "while문을 활용하여 1부터 100사이의 짝수의 합을 계산하여 출력하시오."
   ]
  },
  {
   "cell_type": "code",
   "execution_count": 12,
   "metadata": {
    "collapsed": false
   },
   "outputs": [
    {
     "name": "stdout",
     "output_type": "stream",
     "text": [
      "2450\n"
     ]
    }
   ],
   "source": [
    "sum = 0\n",
    "i = 2\n",
    "while i < 100:\n",
    "    sum += i\n",
    "    i += 2\n",
    "print sum"
   ]
  },
  {
   "cell_type": "markdown",
   "metadata": {},
   "source": [
    "sum이라는 변수를 만들어 while loop내에서 짝수 값들을 더 한 후 while loop 외부에서 출력문을 이용해 출력한다."
   ]
  },
  {
   "cell_type": "markdown",
   "metadata": {},
   "source": [
    "1. 사용자로부터 임의의 정수를 입력받고, 해당 숫자를 역순으로 출력하는 프로그램을 작성하시오.\n",
    "    * [실행 예]\n",
    "    * 정수를 입력하세요: 3125\n",
    "    * 숫자 역순은 5213 입니다."
   ]
  },
  {
   "cell_type": "code",
   "execution_count": 2,
   "metadata": {
    "collapsed": false
   },
   "outputs": [
    {
     "name": "stdout",
     "output_type": "stream",
     "text": [
      "insert integer : 13579\n",
      "reverse integer :  97531\n"
     ]
    }
   ],
   "source": [
    "i = input('insert integer : ')\n",
    "i = str(i)\n",
    "i = i[::-1]\n",
    "i = int(i)\n",
    "print 'reverse integer : ', i"
   ]
  },
  {
   "cell_type": "markdown",
   "metadata": {},
   "source": [
    "1. input 함수를 통해 정수를 입력받은 후 내장함수 str을 이용해 문자열로 변환 후 문자열을 역 슬라이싱을 한다. \n",
    "그 후 다시 문자열을 내장함수 int를 이용해 정수형으로 바꾼 후 출력해 주었다.\n",
    "    * 사용자로 부터 정수를 입력받아서 1부터 그 사이에 존재하는 소수 (Prime number)를 출력하는 파이썬 프로그램을 작성하시오."
   ]
  },
  {
   "cell_type": "code",
   "execution_count": 1,
   "metadata": {
    "collapsed": false
   },
   "outputs": [
    {
     "name": "stdout",
     "output_type": "stream",
     "text": [
      "insert integer :15\n",
      "2 3 5 7 11 13\n"
     ]
    }
   ],
   "source": [
    "i = input('insert integer :')\n",
    "\n",
    "for x in range(2, i):\n",
    "    if x is 2:\n",
    "        print x,\n",
    "\n",
    "    elif x > 2:\n",
    "        for y in range (2, x):\n",
    "            if ( x%y is 0 ):\n",
    "                break\n",
    "        else:\n",
    "            print x,"
   ]
  },
  {
   "cell_type": "markdown",
   "metadata": {},
   "source": [
    "i변수에 정수를 입력받은 후 1부터 입력받은 값 사이에 존재하는 소수를 판별하기 위해 반복문 for를 range (2, i)까지 돌린다.\n",
    "2는 소수 이므로 바로 출력을 해주고, 2보다 큰 수에 대해서는 2 부터 해당 값 전까지의 값들을 이용해 모드 연산을 수행한다.\n",
    "모드연산을 통해 나머지가 0인 값이 있으면 소수가 아니므로 break를 이용해 반복문을 종료한다.\n",
    "만약 나머지가 0인 값이 없으면 1과 자기 자신만을 인수로 가지는 소수이므로 else:를 이용해 반복문의 마지막에 print를 수행해준다."
   ]
  },
  {
   "cell_type": "markdown",
   "metadata": {},
   "source": [
    "1. 10보다 작은 자연수 중에서 3 또는 5의 배수는 3, 5, 6, 9 이고, 이것을 모두 더하면 23입니다.\n",
    "1000보다 작은 자연수 중에서 3 또는 5의 배수를 모두 더하면 얼마일까요?"
   ]
  },
  {
   "cell_type": "code",
   "execution_count": 2,
   "metadata": {
    "collapsed": false
   },
   "outputs": [
    {
     "name": "stdout",
     "output_type": "stream",
     "text": [
      "233168\n"
     ]
    }
   ],
   "source": [
    "sum = 0\n",
    "for x in range(1, 1000) :\n",
    "    if (x % 3) == 0 or (x % 5) == 0 :\n",
    "        sum += x\n",
    "print sum"
   ]
  },
  {
   "cell_type": "markdown",
   "metadata": {},
   "source": [
    "3또는 5의 배수는 3으로 나누어 떨어지거나 5로 나누어 떨어지는 수이므로 3 또는 5로 나누어 떨어지면 sum변수에 값을 더한 후 최종적으로 출력하였다."
   ]
  },
  {
   "cell_type": "markdown",
   "metadata": {},
   "source": [
    "1. 피보나치 수열의 각 항은 바로 앞의 항 두 개를 더한 것이 됩니다. 1과 2로 시작하는 경우 이 수열은 다음과 같다.\n",
    "1, 2, 3, 5, 8, 13, 21, 34, 55, 89, ...\n",
    "짝수이면서 4백만 이하인 모든 항을 더하면 얼마가 됩니까?"
   ]
  },
  {
   "cell_type": "code",
   "execution_count": 2,
   "metadata": {
    "collapsed": false
   },
   "outputs": [
    {
     "name": "stdout",
     "output_type": "stream",
     "text": [
      "4613732\n"
     ]
    }
   ],
   "source": [
    "def Fibo(n):\n",
    "    if n == 0: return 0\n",
    "    elif n == 1: return 1\n",
    "    else: return Fibo(n-1)+Fibo(n-2)\n",
    "\n",
    "sum = 0\n",
    "y = 1\n",
    "while 1:\n",
    "    Fib = Fibo(y)\n",
    "    \n",
    "    if (Fib % 2 == 0) and (Fib <= 4000000) :\n",
    "        sum += Fib\n",
    "    elif (Fib > 4000000) :\n",
    "        break\n",
    "    y += 1     \n",
    "print sum"
   ]
  },
  {
   "cell_type": "markdown",
   "metadata": {},
   "source": [
    "먼저 피보나치 값을 반환해주는 내장함수를 이용한다. 무한 반복문 while문 내부에서 첫 번째 항부터 피보나치 수열 값을 반복적으로 구한다.\n",
    "만약 피보나치 수열 값이 짝수 이면서 400만 이하의 값이라면 sum 변수에 더한다.\n",
    "그렇지 않고 400만 이상의 값이라면 break를 이용해 반복문을 빠져나온다."
   ]
  },
  {
   "cell_type": "markdown",
   "metadata": {},
   "source": [
    "1. 어떤 수를 소수의 곱으로만 나타내는 것을 소인수분해라 하고, 이 소수들을 그 수의 소인수라고 합니다.\n",
    "예를 들면 13195의 소인수는 5, 7, 13, 29 입니다.\n",
    "600851475143의 소인수 중에서 가장 큰 수를 구하세요."
   ]
  },
  {
   "cell_type": "code",
   "execution_count": 1,
   "metadata": {
    "collapsed": false
   },
   "outputs": [
    {
     "name": "stdout",
     "output_type": "stream",
     "text": [
      "insert integer:1357924680\n",
      "소인수는 : [2, 3, 5, 7, 19, 79, 359]\n",
      "소인수중 제일 큰 수는: 359\n"
     ]
    }
   ],
   "source": [
    "# -*- coding: ms949 -*-\n",
    "def PrimaryN( n ):\n",
    "    if n is 2:\n",
    "        return True\n",
    "    \n",
    "    elif n > 2:\n",
    "        for y in xrange (2, n):\n",
    "            if ( n%y is 0 ):\n",
    "                break\n",
    "        else:\n",
    "            return True\n",
    "    return False\n",
    "\n",
    "def GetPrimary( n ):\n",
    "    result = []\n",
    "\n",
    "    for z in xrange(2, n) :\n",
    "        if n % z == 0 :\n",
    "            if PrimaryN( z ):\n",
    "                result += [z]\n",
    "                n /= z\n",
    "                result += GetPrimary( n )\n",
    "                break\n",
    "    else :\n",
    "        if PrimaryN( n ) :\n",
    "            result += [n]\n",
    "                \n",
    "    result = list(set(result)) \n",
    "        \n",
    "    return result\n",
    "                \n",
    "num = input('insert integer:')\n",
    "result = GetPrimary( num )\n",
    "result.sort()\n",
    "\n",
    "if len(result) == 0 :\n",
    "    print 'there is no prime factor'\n",
    "elif len(result) > 0 and result[-1] == num:\n",
    "    result.remove(num)\n",
    "    if len(result) == 0 :\n",
    "        print '소인수가 존재하지 않습니다.'\n",
    "    else :\n",
    "        print '소인수는 :', result\n",
    "        print '소인수중 제일 큰 수는:', result[-1]\n",
    "else :\n",
    "    print '소인수는 :', result\n",
    "    print '소인수중 제일 큰 수는:', result[-1]"
   ]
  },
  {
   "cell_type": "markdown",
   "metadata": {},
   "source": [
    "먼저 함수를 정의해서 소수를 판별해주는 함수를 만들었다. 이제 그것을 이용해 소인수를 구하는 알고리즘을 작성해 보았는데, 만만한 알고리즘은 아니었다.\n",
    "처음에는 1부터 입력받은 값까지 반복문을 돌려서 나누어 본 후 나누어 지면 그것을 소수 판별을 해서 나누어 떨어지고 소수이면 리스트에 저장하는 방식으로 코딩을 했었는데, 큰값이 들어가니 반복문이 끝나지 않았다. 하여 방법을 바꾸어 반복문을 돌려 나누되 함수로 만들어 재귀 호출식으로 만들어 보았다. 나누어 떨어지면 나눈 몫을 다시 재귀 호출하여 소수를 구하는 방식으로 진행했다."
   ]
  },
  {
   "cell_type": "markdown",
   "metadata": {},
   "source": [
    "# 고찰\n",
    "파이썬의 기본부터 응용까지 학습해볼 수 있었던 실습이었다. 이러닝과 수업을 통해 배운 개념을 활용할 수 있었고 심화된 문제를 통해 난이도를 좀 높여 학습하였다. 중간에 막히는 부분이 있어 교수님이 추천하신 방법인 구글을 통해 해결하였다. 또한 지난 학기에 수강하였던 과목들이 도움이 되었다. 시간은 오래 걸리지만 꾸준함의 중요성을 배울 수 있었다."
   ]
  },
  {
   "cell_type": "code",
   "execution_count": null,
   "metadata": {
    "collapsed": true
   },
   "outputs": [],
   "source": []
  }
 ],
 "metadata": {
  "kernelspec": {
   "display_name": "Python 2",
   "language": "python",
   "name": "python2"
  },
  "language_info": {
   "codemirror_mode": {
    "name": "ipython",
    "version": 2
   },
   "file_extension": ".py",
   "mimetype": "text/x-python",
   "name": "python",
   "nbconvert_exporter": "python",
   "pygments_lexer": "ipython2",
   "version": "2.7.9"
  }
 },
 "nbformat": 4,
 "nbformat_minor": 0
}
